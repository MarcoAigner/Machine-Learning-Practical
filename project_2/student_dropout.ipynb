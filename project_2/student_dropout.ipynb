{
 "cells": [
  {
   "cell_type": "markdown",
   "metadata": {},
   "source": [
    "# Project 2: Student Dropout Classifier\n",
    "*by Anna Kohnen & Marco Aigner*\n",
    "\n",
    "In this project we develop and evaluate different models to identify students who are at risk of dropping out of university. \n",
    "\n",
    "## The Tasks\n",
    "The project comprises 6 tasks, listed as follows:\n",
    "\n",
    "1. To analyze and explore the dataset. To perform data pre-processing and cleansing.\n",
    "2. To calculate and visualize the correlation of features among each other and with the labels. To discuss an intersting correlation\n",
    "3. To train (at least) four machine-learning algorithms: One probabilistic, one tree-based, one distance-based and one ensemble method each.\n",
    "4. To evaluate the models using k-fold cross-validation. To report accuracy, mean standard deviation and a confusion matrix per model. To discuss whether one model is significantly better than the others\n",
    "5. To pick two favorite models. To discuss which features were most relevant for the students' success. To discuss differences between the two models\n",
    "6. So export the best performing model as ONNX to compete against other models\n",
    "\n",
    "## The Data\n",
    "The dataset contains data from students from the Polytechnic Institute of Portalegre and was published by [Martins et al.](https://link.springer.com/chapter/10.1007/978-3-030-72657-7_16). It explicitly only includes information known at the time of students' enrollment and comprises features related to their academic path as well as to demographical and social-economic information.\n",
    "\n",
    "There are both numerical and categorical features included in the dataset.\n",
    "\n",
    "<div class=\"alert alert-block alert-info\"> <b>Caution:</b> The categorical features are encoded as numbers.</div>"
   ]
  },
  {
   "cell_type": "markdown",
   "metadata": {},
   "source": [
    "# Libraries\n",
    "The following four libraries are allowed for this project:"
   ]
  },
  {
   "cell_type": "code",
   "execution_count": null,
   "metadata": {},
   "outputs": [],
   "source": [
    "import pandas as pd\n",
    "import matplotlib.pyplot as plt\n",
    "import seaborn as sns\n",
    "import sklearn\n",
    "import numpy as np"
   ]
  },
  {
   "cell_type": "markdown",
   "metadata": {},
   "source": [
    "# Importing the Data"
   ]
  },
  {
   "cell_type": "code",
   "execution_count": null,
   "metadata": {},
   "outputs": [],
   "source": [
    "student_data = pd.read_csv('./student_data.csv', delimiter=',')"
   ]
  },
  {
   "cell_type": "markdown",
   "metadata": {},
   "source": [
    "# 1. Exploring and Pre-Processing\n",
    "We first look at the data's shape:"
   ]
  },
  {
   "cell_type": "code",
   "execution_count": null,
   "metadata": {},
   "outputs": [],
   "source": [
    "student_data.shape"
   ]
  },
  {
   "cell_type": "markdown",
   "metadata": {},
   "source": [
    "There is data on 4000 students across 37 columns each.\n",
    "\n",
    "Taking a closer look at the columns:"
   ]
  },
  {
   "cell_type": "code",
   "execution_count": null,
   "metadata": {},
   "outputs": [],
   "source": [
    "student_data.info()"
   ]
  },
  {
   "cell_type": "markdown",
   "metadata": {},
   "source": [
    "## 1.1 Pre-Processing\n",
    "We can verify that **1.** there are 36 features and one target variable and **2.** that categorical features are numerically encoded.\n",
    "\n",
    "For convenience and readabiltiy, we transform the column names into ```snake_case```"
   ]
  },
  {
   "cell_type": "code",
   "execution_count": null,
   "metadata": {},
   "outputs": [],
   "source": [
    "# create a list of new column names by replacing spaces and '/' with _ and removing the rest\n",
    "snake_case_columns = student_data.columns.map(lambda x: x.lower().replace(' ', '_').replace('/','_').replace('(','').replace(')', '').replace('\\t', '').replace('\\'s','')).to_list()\n",
    "student_data.rename(columns=dict(zip(student_data.columns, snake_case_columns)), inplace=True) # apply the snake_case column names"
   ]
  },
  {
   "cell_type": "markdown",
   "metadata": {},
   "source": [
    "## 1.2 General Exploration\n",
    "We fix a typo that we noticed:"
   ]
  },
  {
   "cell_type": "code",
   "execution_count": null,
   "metadata": {},
   "outputs": [],
   "source": [
    "student_data.rename(columns={'nacionality':'nationality'}, inplace=True)"
   ]
  },
  {
   "cell_type": "markdown",
   "metadata": {},
   "source": [
    "Now let's inspect some rows of data:"
   ]
  },
  {
   "cell_type": "code",
   "execution_count": null,
   "metadata": {},
   "outputs": [],
   "source": [
    "student_data.head()"
   ]
  },
  {
   "cell_type": "markdown",
   "metadata": {},
   "source": [
    "Are there any data missing?"
   ]
  },
  {
   "cell_type": "code",
   "execution_count": null,
   "metadata": {},
   "outputs": [],
   "source": [
    "student_data.isnull().values.any()"
   ]
  },
  {
   "cell_type": "markdown",
   "metadata": {},
   "source": [
    "There seem to be no empty cells in the dataframe.\n",
    "\n",
    "Are there duplicates within the data?"
   ]
  },
  {
   "cell_type": "code",
   "execution_count": null,
   "metadata": {},
   "outputs": [],
   "source": [
    "student_data.isna().values.any()"
   ]
  },
  {
   "cell_type": "markdown",
   "metadata": {},
   "source": [
    "There does not seem to be duplicate data present.\n",
    "\n",
    "## 1.3 Statistical Exploration\n",
    "\n",
    "Statistics might provide us further insight into the features.\n",
    "We use different measures for continuous and categorical features.\n",
    "We distinguish programmatically between the two by assigning the ``categorical`` dtype to categorical features.\n",
    "\n",
    "We know that there are both continuous and discrete features within the dataset. Using the [documentation](https://archive.ics.uci.edu/dataset/697/predict+students+dropout+and+academic+success) we can manually extract a list of categorical columns: "
   ]
  },
  {
   "cell_type": "code",
   "execution_count": null,
   "metadata": {},
   "outputs": [],
   "source": [
    "# manually create a list of categorical column names\n",
    "categorical_columns = ['marital_status', 'application_mode', 'application_order', 'course', 'daytime_evening_attendance', 'previous_qualification', 'previous_qualification_grade', 'nationality', 'mother_qualification', 'father_qualification', 'mother_occupation', 'father_occupation', 'displaced', 'educational_special_needs', 'debtor', 'tuition_fees_up_to_date', 'gender', 'scholarship_holder', 'international']\n",
    "\n",
    "# assign the categorical dtype to respective columns\n",
    "student_data[categorical_columns] = student_data[categorical_columns].astype('category')"
   ]
  },
  {
   "cell_type": "markdown",
   "metadata": {},
   "source": [
    "Pandas ``describe()``-method provides useful statistics such as the count, mean, minimum and maximum values as well as the standard deviation and percentiles of the distributions.\n",
    "\n",
    "Now that we assigned categorical columns, the method summarizes only numerical features"
   ]
  },
  {
   "cell_type": "code",
   "execution_count": null,
   "metadata": {},
   "outputs": [],
   "source": [
    "student_data.describe()"
   ]
  },
  {
   "cell_type": "markdown",
   "metadata": {},
   "source": [
    "Using ``describe`` on categorical columns gives us different statistics, such as the number of unique as well as the most frequent variable"
   ]
  },
  {
   "cell_type": "code",
   "execution_count": null,
   "metadata": {},
   "outputs": [],
   "source": [
    "student_data.describe(include=['category'])"
   ]
  },
  {
   "cell_type": "markdown",
   "metadata": {},
   "source": [
    "## 1.4 Visual Exploration\n",
    "### 1.4.1 Target Variables"
   ]
  },
  {
   "cell_type": "code",
   "execution_count": null,
   "metadata": {},
   "outputs": [],
   "source": [
    "label_distribution = student_data.value_counts(subset=student_data['target'], normalize=True)\n",
    "\n",
    "fig, ax = plt.subplots()\n",
    "sns.barplot(data=label_distribution)\n",
    "ax.set_ylim(0, 1)\n",
    "plt.show()"
   ]
  },
  {
   "cell_type": "markdown",
   "metadata": {},
   "source": [
    "### 1.4.2 Continuous Features\n",
    "<div class=\"alert alert-block alert-danger\">Ich glaube es macht Sinn zuerst die Korrelationen zu überprüfen bevor wir alle Features plotten. Dann können wir nämlich Features mit schwacher Korrelation zum Target raus schmeißen und sparen uns Arbeit beim plotten.</div>"
   ]
  },
  {
   "cell_type": "markdown",
   "metadata": {},
   "source": [
    "# 2. Correlation Analysis"
   ]
  },
  {
   "cell_type": "markdown",
   "metadata": {},
   "source": [
    "## 2.1 Features With The Target\n",
    "We are interested in how much each feature correlates with the target. Features with a very low correlation likely do not provide significant information for our prognosis and therefore can be omitted. On the other hand, in our interpretation we can focus on highly correlated features instead.\n",
    "\n",
    "First, we numerically encode the target column:"
   ]
  },
  {
   "cell_type": "code",
   "execution_count": null,
   "metadata": {},
   "outputs": [],
   "source": [
    "student_data['target'] = student_data['target'].map(arg={'Dropout':0, 'Enrolled':1, 'Graduate':2})\n"
   ]
  },
  {
   "cell_type": "markdown",
   "metadata": {},
   "source": [
    "Then we calculate the pairwise correlations:"
   ]
  },
  {
   "cell_type": "code",
   "execution_count": null,
   "metadata": {},
   "outputs": [],
   "source": [
    "# TODO: try out different correlation methods (kendall, spearman, ...)\n",
    "# However, spearman should be the way to go if we don't assume normal distributions\n",
    "corr_feature_target = student_data.corrwith(other=student_data['target'], axis='index', drop=False, method='spearman')\n",
    "\n",
    "corr_feature_target.sort_values(ascending=True)"
   ]
  },
  {
   "cell_type": "markdown",
   "metadata": {},
   "source": [
    "- The correlation tell us how much each feature influences the target variable.\n",
    "- Closer to 0 = less correlation with 0 = no  correlation\n",
    "- Closer to 1/-1 more positive/negative correlation\n",
    "\n",
    "We only focus on features that are highly correlated with the target. For this, we define a treshhold by which we filter:"
   ]
  },
  {
   "cell_type": "code",
   "execution_count": null,
   "metadata": {},
   "outputs": [],
   "source": [
    "CORRELATION_TRESHHOLD= 0.05\n",
    "\n",
    "corr_feature_target = corr_feature_target[abs(corr_feature_target) >= CORRELATION_TRESHHOLD]\n",
    "corr_feature_target.sort_values(ascending=True)"
   ]
  },
  {
   "cell_type": "markdown",
   "metadata": {},
   "source": [
    "- Successfully reduced number of features\n",
    "- TODO: Some interpretations of the correlations e.g. how lower age could lead to higher chances of graduation or how scholarship holders are more likely to graduate"
   ]
  },
  {
   "cell_type": "markdown",
   "metadata": {},
   "source": [
    "## 2.2 Features With Each Other\n",
    "- Multiple features with a high correlation among each other do not add information to the model\n",
    "- Identify such groups of features\n",
    "- Pick only the one with the highest correlation with the target\n",
    "\n",
    "First calculate the correlation matrix using only the features with a high correlation with the target"
   ]
  },
  {
   "cell_type": "code",
   "execution_count": null,
   "metadata": {},
   "outputs": [],
   "source": [
    "df_corr_target = student_data[corr_feature_target.index]\n",
    "\n",
    "correlations_features = df_corr_target.corr()\n",
    "\n",
    "correlations_features"
   ]
  },
  {
   "cell_type": "markdown",
   "metadata": {},
   "source": [
    "- Filter to only keep absolute correlations above a given treshhold "
   ]
  },
  {
   "cell_type": "code",
   "execution_count": null,
   "metadata": {},
   "outputs": [],
   "source": [
    "correlations_features_filtered = correlations_features[abs(correlations_features) > 0.4]\n",
    "correlations_features_filtered"
   ]
  },
  {
   "cell_type": "markdown",
   "metadata": {},
   "source": [
    "- Plot the remaining correlations"
   ]
  },
  {
   "cell_type": "code",
   "execution_count": null,
   "metadata": {},
   "outputs": [],
   "source": [
    "plt.figure(figsize=(20,20))\n",
    "sns.heatmap(data=correlations_features_filtered, annot=True, linewidths=0.1)\n",
    "\n",
    "plt.show()"
   ]
  },
  {
   "cell_type": "markdown",
   "metadata": {},
   "source": [
    "- Discuss how the age at enrollment is correlated with the marital status, the application mode and daytime/evening-attendance"
   ]
  },
  {
   "cell_type": "markdown",
   "metadata": {},
   "source": [
    "- Of a group of correlated features, only pick one (the one with the highest correlation with the target)\n",
    "\n",
    "<div class=\"alert alert-block alert-info\">Hardcoded for now. Maybe automate later</div>"
   ]
  },
  {
   "cell_type": "code",
   "execution_count": null,
   "metadata": {},
   "outputs": [],
   "source": [
    "#to_drop = ['marital_status', 'application_mode', 'daytime_evening_attendance', 'previous_qualification', 'previous_qualification_grade', 'debtor', 'curricular_units_1st_sem_enrolled', 'curricular_units_1st_sem_approved', 'curricular_units_1st_sem_grade', 'curricular_units_1st_sem_without_evaluations' ]"
   ]
  },
  {
   "cell_type": "code",
   "execution_count": null,
   "metadata": {},
   "outputs": [],
   "source": [
    "#final_dataframe = df_corr_target.drop(columns=to_drop, axis='columns')\n",
    "\n",
    "#final_dataframe"
   ]
  },
  {
   "cell_type": "markdown",
   "metadata": {},
   "source": [
    "# 3. Model Training"
   ]
  },
  {
   "cell_type": "markdown",
   "metadata": {},
   "source": [
    "## 3.1 Data Split"
   ]
  },
  {
   "cell_type": "code",
   "execution_count": null,
   "metadata": {},
   "outputs": [],
   "source": [
    "final_dataframe = df_corr_target"
   ]
  },
  {
   "cell_type": "code",
   "execution_count": null,
   "metadata": {},
   "outputs": [],
   "source": [
    "from sklearn.model_selection import train_test_split\n",
    "\n",
    "final_dataframe\n",
    "\n",
    "X = final_dataframe.drop(columns='target')\n",
    "y = final_dataframe['target']\n",
    "\n",
    "X_train,X_test,y_train,y_test = train_test_split(X,y,test_size=0.2,random_state=42)"
   ]
  },
  {
   "attachments": {},
   "cell_type": "markdown",
   "metadata": {},
   "source": [
    "<hr>"
   ]
  },
  {
   "attachments": {},
   "cell_type": "markdown",
   "metadata": {},
   "source": [
    "# Random dataset for test and train -> but does not perform as good as the normal train_test_split() function"
   ]
  },
  {
   "cell_type": "code",
   "execution_count": null,
   "metadata": {},
   "outputs": [],
   "source": [
    "TRAIN_FRACTION = 0.75\n",
    "\n",
    "train = pd.concat([final_dataframe[final_dataframe['target'] == 0].sample(frac=TRAIN_FRACTION), final_dataframe[final_dataframe['target'] == 1].sample(frac=TRAIN_FRACTION),final_dataframe[final_dataframe['target'] == 2].sample(frac=TRAIN_FRACTION)])\n",
    "test = final_dataframe.drop(train.index)\n",
    "X_train = test.drop(columns='target')\n",
    "y_train = test['target']\n",
    "X_test = test.drop(columns='target')\n",
    "y_test = test['target']"
   ]
  },
  {
   "attachments": {},
   "cell_type": "markdown",
   "metadata": {},
   "source": [
    "<hr>"
   ]
  },
  {
   "attachments": {},
   "cell_type": "markdown",
   "metadata": {},
   "source": [
    "# Create the models"
   ]
  },
  {
   "attachments": {},
   "cell_type": "markdown",
   "metadata": {},
   "source": [
    "<hr>"
   ]
  },
  {
   "cell_type": "code",
   "execution_count": null,
   "metadata": {},
   "outputs": [],
   "source": [
    "from sklearn.ensemble import RandomForestClassifier, GradientBoostingClassifier\n",
    "from sklearn.neighbors import KNeighborsClassifier\n",
    "from sklearn.naive_bayes import GaussianNB\n",
    "from xgboost import XGBClassifier\n",
    "\n",
    "from sklearn.metrics import accuracy_score\n",
    "from sklearn.model_selection import KFold, cross_val_score\n",
    "\n",
    "# Probabilistic Model\n",
    "probabilistic_model = GaussianNB()\n",
    "\n",
    "# Tree-based Model\n",
    "rfc = RandomForestClassifier(n_estimators=100, random_state=42)\n",
    "\n",
    "# Distance-Based Model\n",
    "knn = KNeighborsClassifier(n_neighbors=5)\n",
    "\n",
    "# Ensemble Methods\n",
    "gbc = GradientBoostingClassifier(n_estimators=100, random_state=42)\n",
    "xgbc = XGBClassifier(objective='multi:softmax', num_class=3, random_state=42)\n",
    "\n",
    "models = {\n",
    "    'Gaussian Naive Bayes': GaussianNB(),\n",
    "\n",
    "    'Random Forest': RandomForestClassifier(n_estimators=100, random_state=42),\n",
    "\n",
    "    'K-Nearest Neighbors': KNeighborsClassifier(n_neighbors=5),\n",
    "\n",
    "    'Gradient Boosting': GradientBoostingClassifier(n_estimators=100, random_state=42),\n",
    "    'XGBoost': XGBClassifier(random_state=42)\n",
    "}\n",
    "\n"
   ]
  },
  {
   "attachments": {},
   "cell_type": "markdown",
   "metadata": {},
   "source": [
    "In scikit-learn, the KNeighborsClassifier expects the input data to be in the form of a NumPy array or array-like object, not a DataFrame.\n",
    "\n",
    "This is why we call \".values\" on our input data"
   ]
  },
  {
   "attachments": {},
   "cell_type": "markdown",
   "metadata": {},
   "source": [
    "<hr>"
   ]
  },
  {
   "cell_type": "code",
   "execution_count": null,
   "metadata": {},
   "outputs": [],
   "source": [
    "from sklearn.model_selection import KFold, cross_val_score, cross_val_predict\n",
    "from sklearn.model_selection import StratifiedKFold\n",
    "from sklearn.model_selection import RepeatedKFold\n",
    "from sklearn.metrics import confusion_matrix\n",
    "from sklearn.metrics import classification_report\n",
    "import seaborn as sns\n",
    "import matplotlib.pyplot as plt\n",
    "# Specify the number of folds for K-fold cross-validation\n",
    "num_folds = 10\n",
    "\n",
    "# Create a KFold object\n",
    "kf = KFold(n_splits=num_folds, shuffle=True, random_state=42)  # You can adjust the random_state for reproducibility\n",
    "skf = StratifiedKFold(n_splits=10)\n",
    "rkf = RepeatedKFold(n_splits=10, n_repeats=2, random_state=42)\n",
    "\n",
    "for model_name, model in models.items(): \n",
    "    feature_importance = None \n",
    "    \n",
    "    model.fit(X_train.values,y_train.values)\n",
    "    \n",
    "    # Perform K-fold cross-validation and get accuracy scores for each fold\n",
    "    kf_scores = cross_val_score(model, X_train.values, y_train.values, cv=kf, scoring='accuracy')\n",
    "    print(f\"K-Fold with model: {model_name} - Accuracy: {np.mean(kf_scores):.4f} (± {np.std(kf_scores):.4f})\")\n",
    "\n",
    "    skf_scores = cross_val_score(model, X_train.values, y_train.values, cv=skf, scoring='accuracy')\n",
    "    print(f\"Stratified K-Fold with model: {model_name} - Accuracy: {np.mean(skf_scores):.4f} (± {np.std(skf_scores):.4f})\")\n",
    "    \n",
    "    rkf_scores = cross_val_score(model, X_train.values, y_train.values, cv=rkf, scoring='accuracy')\n",
    "    print(f\"Repeated K-Fold with model: {model_name} - Accuracy: {np.mean(rkf_scores):.4f} (± {np.std(rkf_scores):.4f})\")\n",
    "\n",
    "\n",
    "    # Assuming 'model' is your trained model and X_test, y_test are your test data\n",
    "    y_pred = cross_val_predict(model, X_train, y_train, cv=kf)\n",
    "    cm = confusion_matrix(y_test, y_pred)\n",
    "    print(f\"Classification Report for {model_name}:\\n\")\n",
    "    print(classification_report(y_test, y_pred))\n",
    "    \n",
    "    try:\n",
    "        # Check if the model has feature_importances_ attribute\n",
    "        if hasattr(model, 'feature_importances_'):\n",
    "            feature_importance = model.feature_importances_\n",
    "\n",
    "    except Exception as e:\n",
    "        print(f\"Error while processing {model_name}: {e}\")\n",
    "\n",
    "    print(f\"\\nModel: {model_name}\")\n",
    "    if feature_importance is not None:\n",
    "        feature_dict = {}\n",
    "        for feature, importance in zip(X_train.columns, feature_importance):\n",
    "            feature_dict[feature] = importance\n",
    "            #print(f\"{feature}: {importance:.4f}\" + \"\\n\")\n",
    "\n",
    "        # Sort the dictionary by values in ascending order\n",
    "        sorted_dict = dict(sorted(feature_dict.items(), key=lambda item: item[1], reverse=True))\n",
    "        print(sorted_dict)\n",
    "        print(\"\\n\")\n",
    "    else:\n",
    "        print(\"Feature importance not available for this model.\" + \"\\n\")\n",
    "\n",
    "\n",
    "    # Plot confusion matrix using seaborn\n",
    "    plt.figure(figsize=(8, 6))\n",
    "    sns.heatmap(cm, annot=True, fmt='d', cmap='Blues', xticklabels=sorted(final_dataframe[\"target\"].unique()), yticklabels=sorted(final_dataframe[\"target\"].unique(), reverse=True))\n",
    "    plt.title('Confusion Matrix')\n",
    "    plt.xlabel('Predicted')\n",
    "    plt.ylabel('Actual')\n",
    "    plt.show()\n",
    "\n"
   ]
  },
  {
   "attachments": {},
   "cell_type": "markdown",
   "metadata": {},
   "source": [
    "<hr>"
   ]
  },
  {
   "attachments": {},
   "cell_type": "markdown",
   "metadata": {},
   "source": [
    "# Method to train the model"
   ]
  },
  {
   "cell_type": "code",
   "execution_count": 32,
   "metadata": {},
   "outputs": [],
   "source": [
    "def train_model(model, X_train, y_train):\n",
    "    try:\n",
    "        # Train the model\n",
    "        model.fit(X_train.values, y_train.values)\n",
    "    except Exception as e:\n",
    "        print(f\"Error while training {model_name}: {e}\")"
   ]
  },
  {
   "attachments": {},
   "cell_type": "markdown",
   "metadata": {},
   "source": [
    "<hr>"
   ]
  },
  {
   "attachments": {},
   "cell_type": "markdown",
   "metadata": {},
   "source": [
    "<hr>"
   ]
  },
  {
   "attachments": {},
   "cell_type": "markdown",
   "metadata": {},
   "source": [
    "# Methode for evaluating the model\n",
    "## AKTUELL NICHT GENUTZT"
   ]
  },
  {
   "cell_type": "code",
   "execution_count": null,
   "metadata": {},
   "outputs": [],
   "source": [
    "from sklearn.model_selection import KFold, cross_val_score\n",
    "from sklearn.model_selection import StratifiedKFold\n",
    "from sklearn.model_selection import RepeatedKFold\n",
    "def evaluate_model(model, X, y):\n",
    "    # Specify the number of folds for K-fold cross-validation\n",
    "    num_folds = 10\n",
    "\n",
    "    # Create KFold objects\n",
    "    kf = KFold(n_splits=num_folds, shuffle=True, random_state=42)\n",
    "    skf = StratifiedKFold(n_splits=num_folds)\n",
    "    rkf = RepeatedKFold(n_splits=num_folds, n_repeats=2, random_state=42)\n",
    "\n",
    "    # Evaluate the model using different cross-validation methods\n",
    "    for cv_method, cv_object in [(\"K-Fold\", kf), (\"Stratified K-Fold\", skf), (\"Repeated K-Fold\", rkf)]:\n",
    "        scores = cross_val_score(model, X.values, y.values, cv=cv_object, scoring='accuracy')\n",
    "        print(f\"{cv_method} with {model_name} - Accuracy: {np.mean(scores):.4f} (± {np.std(scores):.4f})\")\n"
   ]
  },
  {
   "attachments": {},
   "cell_type": "markdown",
   "metadata": {},
   "source": [
    "<hr>"
   ]
  },
  {
   "attachments": {},
   "cell_type": "markdown",
   "metadata": {},
   "source": [
    "<hr>"
   ]
  },
  {
   "attachments": {},
   "cell_type": "markdown",
   "metadata": {},
   "source": [
    "# Method for cross validation prediction"
   ]
  },
  {
   "cell_type": "code",
   "execution_count": 51,
   "metadata": {},
   "outputs": [],
   "source": [
    "from sklearn.model_selection import cross_val_predict\n",
    "from sklearn.metrics import classification_report\n",
    "def cross_validate_model(model, X_train, y_train, kf):\n",
    "    try:\n",
    "        # Use cross_val_predict to get predictions for each fold\n",
    "        y_pred = cross_val_predict(model, X_train.values, y_train.values, cv=kf)\n",
    "        cm = confusion_matrix(y_train, y_pred)\n",
    "\n",
    "        print(f\"Classification Report for {model_name}:\\n\")\n",
    "        print(classification_report(y_train, y_pred))\n",
    "\n",
    "        return cm\n",
    "\n",
    "    except Exception as e:\n",
    "        print(f\"Error while cross-validating {model_name}: {e}\")\n",
    "        return None"
   ]
  },
  {
   "attachments": {},
   "cell_type": "markdown",
   "metadata": {},
   "source": [
    "<hr>"
   ]
  },
  {
   "attachments": {},
   "cell_type": "markdown",
   "metadata": {},
   "source": [
    "<hr>"
   ]
  },
  {
   "attachments": {},
   "cell_type": "markdown",
   "metadata": {},
   "source": [
    "# Method to plot confusion Matrix"
   ]
  },
  {
   "cell_type": "code",
   "execution_count": 52,
   "metadata": {},
   "outputs": [],
   "source": [
    "import seaborn as sns\n",
    "import matplotlib.pyplot as plt\n",
    "\n",
    "def plot_confusion_matrix(cm, labels):\n",
    "\n",
    "    # Plot confusion matrix using seaborn\n",
    "    plt.figure(figsize=(8, 6))\n",
    "    sns.heatmap(cm, annot=True, fmt='d', cmap='Blues', xticklabels=labels, yticklabels=labels)\n",
    "    plt.title('Confusion Matrix')\n",
    "    plt.xlabel('Predicted')\n",
    "    plt.ylabel('Actual')\n",
    "    plt.show()"
   ]
  },
  {
   "attachments": {},
   "cell_type": "markdown",
   "metadata": {},
   "source": [
    "<hr>"
   ]
  },
  {
   "attachments": {},
   "cell_type": "markdown",
   "metadata": {},
   "source": [
    "<hr>"
   ]
  },
  {
   "attachments": {},
   "cell_type": "markdown",
   "metadata": {},
   "source": [
    "# Methode to get feature importance"
   ]
  },
  {
   "cell_type": "code",
   "execution_count": 53,
   "metadata": {},
   "outputs": [],
   "source": [
    "def analyze_feature_importance(model, X_train):\n",
    "    feature_importance = model.feature_importances_\n",
    "    feature_dict = dict(zip(X_train.columns, feature_importance))\n",
    "\n",
    "    # Sort the dictionary by values in ascending order\n",
    "    sorted_dict = dict(sorted(feature_dict.items(), key=lambda item: item[1], reverse=True))\n",
    "    print(sorted_dict)\n",
    "    print(\"\\n\")"
   ]
  },
  {
   "attachments": {},
   "cell_type": "markdown",
   "metadata": {},
   "source": [
    "<hr>"
   ]
  },
  {
   "attachments": {},
   "cell_type": "markdown",
   "metadata": {},
   "source": [
    "<hr>"
   ]
  },
  {
   "attachments": {},
   "cell_type": "markdown",
   "metadata": {},
   "source": [
    "# Methode that does everything (fit, evaluate (cross-validation), feature importance, plot confusion matrix)"
   ]
  },
  {
   "cell_type": "code",
   "execution_count": 54,
   "metadata": {},
   "outputs": [],
   "source": [
    "from sklearn.model_selection import cross_val_score\n",
    "\n",
    "def train_and_evaluate_model(model, X_train, y_train, cv, labels):\n",
    "    try:\n",
    "        # Train the model\n",
    "        train_model(model, X_train, y_train)\n",
    "\n",
    "        # Perform K-fold cross-validation and get accuracy scores for each fold\n",
    "        cv_scores = cross_val_score(model, X_train.values, y_train.values, cv=cv, scoring='accuracy')\n",
    "        print(f\"K-Fold with model: {model_name} - Accuracy: {np.mean(cv_scores):.4f} (± {np.std(cv_scores):.4f})\")\n",
    "\n",
    "        conf_mat = cross_validate_model(model, X_train, y_train, cv)\n",
    "\n",
    "        if conf_mat is not None:\n",
    "            # Plot confusion matrix using seaborn\n",
    "            plot_confusion_matrix(conf_mat, labels)\n",
    "\n",
    "            # Check if the model has feature_importances_ attribute\n",
    "            if hasattr(model, 'feature_importances_'):\n",
    "                analyze_feature_importance(model, X_train)\n",
    "            else:\n",
    "                print(\"Feature importance not available for this model.\" + \"\\n\")\n",
    "\n",
    "    except Exception as e:\n",
    "        print(f\"Error while processing {model_name}: {e}\")"
   ]
  },
  {
   "attachments": {},
   "cell_type": "markdown",
   "metadata": {},
   "source": [
    "<hr>"
   ]
  },
  {
   "attachments": {},
   "cell_type": "markdown",
   "metadata": {},
   "source": [
    "<hr>"
   ]
  },
  {
   "attachments": {},
   "cell_type": "markdown",
   "metadata": {},
   "source": [
    "# Execute everything for each model"
   ]
  },
  {
   "cell_type": "code",
   "execution_count": 55,
   "metadata": {},
   "outputs": [
    {
     "name": "stdout",
     "output_type": "stream",
     "text": [
      "K-Fold with model: Gaussian Naive Bayes - Accuracy: 0.7028 (± 0.0206)\n",
      "Classification Report for Gaussian Naive Bayes:\n",
      "\n",
      "              precision    recall  f1-score   support\n",
      "\n",
      "           0       0.75      0.71      0.72      1024\n",
      "           1       0.42      0.23      0.30       571\n",
      "           2       0.73      0.87      0.79      1605\n",
      "\n",
      "    accuracy                           0.70      3200\n",
      "   macro avg       0.63      0.60      0.60      3200\n",
      "weighted avg       0.68      0.70      0.68      3200\n",
      "\n"
     ]
    },
    {
     "data": {
      "image/png": "[encoded data removed]",
      "text/plain": [
       "<Figure size 800x600 with 2 Axes>"
      ]
     },
     "metadata": {},
     "output_type": "display_data"
    },
    {
     "name": "stdout",
     "output_type": "stream",
     "text": [
      "Feature importance not available for this model.\n",
      "\n",
      "K-Fold with model: Random Forest - Accuracy: 0.7719 (± 0.0233)\n",
      "Classification Report for Random Forest:\n",
      "\n",
      "              precision    recall  f1-score   support\n",
      "\n",
      "           0       0.82      0.76      0.79      1024\n",
      "           1       0.56      0.33      0.41       571\n",
      "           2       0.79      0.94      0.85      1605\n",
      "\n",
      "    accuracy                           0.77      3200\n",
      "   macro avg       0.72      0.67      0.69      3200\n",
      "weighted avg       0.76      0.77      0.75      3200\n",
      "\n"
     ]
    },
    {
     "data": {
      "image/png": "[encoded data removed]",
      "text/plain": [
       "<Figure size 800x600 with 2 Axes>"
      ]
     },
     "metadata": {},
     "output_type": "display_data"
    },
    {
     "name": "stdout",
     "output_type": "stream",
     "text": [
      "{'curricular_units_2nd_sem_approved': 0.16541791320891083, 'curricular_units_2nd_sem_grade': 0.13208264519679697, 'curricular_units_1st_sem_approved': 0.10894670712434279, 'curricular_units_1st_sem_grade': 0.10146847034748671, 'admission_grade': 0.07799282937254058, 'previous_qualification_grade': 0.06849808430714471, 'age_at_enrollment': 0.05826888659337565, 'tuition_fees_up_to_date': 0.04317811340047622, 'curricular_units_2nd_sem_enrolled': 0.03705229007525862, 'application_mode': 0.036375682899639446, 'curricular_units_1st_sem_enrolled': 0.03394195658888391, 'application_order': 0.026716759828904754, 'scholarship_holder': 0.01967718888484451, 'gender': 0.017580075048701863, 'debtor': 0.015682026276744945, 'displaced': 0.014493651136179285, 'previous_qualification': 0.010806231048718268, 'curricular_units_1st_sem_without_evaluations': 0.010602992377633506, 'curricular_units_2nd_sem_without_evaluations': 0.008606129858258536, 'marital_status': 0.006673042509675876, 'daytime_evening_attendance': 0.005938323915482004}\n",
      "\n",
      "\n",
      "K-Fold with model: K-Nearest Neighbors - Accuracy: 0.6488 (± 0.0170)\n",
      "Classification Report for K-Nearest Neighbors:\n",
      "\n",
      "              precision    recall  f1-score   support\n",
      "\n",
      "           0       0.67      0.66      0.66      1024\n",
      "           1       0.29      0.19      0.23       571\n",
      "           2       0.71      0.81      0.76      1605\n",
      "\n",
      "    accuracy                           0.65      3200\n",
      "   macro avg       0.56      0.55      0.55      3200\n",
      "weighted avg       0.62      0.65      0.63      3200\n",
      "\n"
     ]
    },
    {
     "data": {
      "image/png": "[encoded data removed]",
      "text/plain": [
       "<Figure size 800x600 with 2 Axes>"
      ]
     },
     "metadata": {},
     "output_type": "display_data"
    },
    {
     "name": "stdout",
     "output_type": "stream",
     "text": [
      "Feature importance not available for this model.\n",
      "\n",
      "K-Fold with model: Gradient Boosting - Accuracy: 0.7722 (± 0.0145)\n",
      "Classification Report for Gradient Boosting:\n",
      "\n",
      "              precision    recall  f1-score   support\n",
      "\n",
      "           0       0.83      0.76      0.79      1024\n",
      "           1       0.53      0.35      0.42       571\n",
      "           2       0.79      0.93      0.86      1605\n",
      "\n",
      "    accuracy                           0.77      3200\n",
      "   macro avg       0.72      0.68      0.69      3200\n",
      "weighted avg       0.76      0.77      0.76      3200\n",
      "\n"
     ]
    },
    {
     "data": {
      "image/png": "[encoded data removed]",
      "text/plain": [
       "<Figure size 800x600 with 2 Axes>"
      ]
     },
     "metadata": {},
     "output_type": "display_data"
    },
    {
     "name": "stdout",
     "output_type": "stream",
     "text": [
      "{'curricular_units_2nd_sem_approved': 0.57868400662813, 'tuition_fees_up_to_date': 0.07758273617966203, 'curricular_units_1st_sem_approved': 0.06373613927999963, 'curricular_units_2nd_sem_grade': 0.05571746353464189, 'curricular_units_2nd_sem_enrolled': 0.047056179122762026, 'curricular_units_1st_sem_enrolled': 0.03329775330065967, 'age_at_enrollment': 0.0311011070644897, 'previous_qualification_grade': 0.022530439181414303, 'curricular_units_1st_sem_grade': 0.020843500500368047, 'admission_grade': 0.017314208431393262, 'scholarship_holder': 0.016129040299543963, 'application_mode': 0.008256826975512782, 'debtor': 0.006572697342789964, 'application_order': 0.005625665213386562, 'curricular_units_1st_sem_without_evaluations': 0.005609919256244145, 'previous_qualification': 0.003586580429728677, 'gender': 0.002783432469552473, 'displaced': 0.0021285110715167765, 'curricular_units_2nd_sem_without_evaluations': 0.0007244628721440108, 'marital_status': 0.0006706526047933775, 'daytime_evening_attendance': 4.867824126664068e-05}\n",
      "\n",
      "\n",
      "K-Fold with model: XGBoost - Accuracy: 0.7609 (± 0.0134)\n",
      "Classification Report for XGBoost:\n",
      "\n",
      "              precision    recall  f1-score   support\n",
      "\n",
      "           0       0.80      0.75      0.77      1024\n",
      "           1       0.49      0.34      0.40       571\n",
      "           2       0.80      0.92      0.85      1605\n",
      "\n",
      "    accuracy                           0.76      3200\n",
      "   macro avg       0.70      0.67      0.68      3200\n",
      "weighted avg       0.74      0.76      0.75      3200\n",
      "\n"
     ]
    },
    {
     "data": {
      "image/png": "[encoded data removed]",
      "text/plain": [
       "<Figure size 800x600 with 2 Axes>"
      ]
     },
     "metadata": {},
     "output_type": "display_data"
    },
    {
     "name": "stdout",
     "output_type": "stream",
     "text": [
      "{'curricular_units_2nd_sem_approved': 0.2725772, 'tuition_fees_up_to_date': 0.17990693, 'curricular_units_1st_sem_enrolled': 0.05766197, 'curricular_units_2nd_sem_enrolled': 0.05088986, 'scholarship_holder': 0.03927843, 'curricular_units_1st_sem_approved': 0.038035717, 'debtor': 0.033320572, 'curricular_units_1st_sem_without_evaluations': 0.03223819, 'curricular_units_2nd_sem_grade': 0.028549692, 'age_at_enrollment': 0.027775075, 'application_order': 0.02553764, 'gender': 0.023713278, 'previous_qualification_grade': 0.023174267, 'application_mode': 0.022788731, 'curricular_units_1st_sem_grade': 0.022787636, 'displaced': 0.021359192, 'admission_grade': 0.021350417, 'daytime_evening_attendance': 0.020662352, 'curricular_units_2nd_sem_without_evaluations': 0.020458667, 'previous_qualification': 0.020342553, 'marital_status': 0.017591607}\n",
      "\n",
      "\n"
     ]
    }
   ],
   "source": [
    "num_folds = 10\n",
    "\n",
    "# Create a KFold object\n",
    "kf = KFold(n_splits=num_folds, shuffle=True, random_state=42) \n",
    "\n",
    "# Loop through your models and call the train_and_evaluate_model method\n",
    "for model_name, model in models.items():\n",
    "    train_and_evaluate_model(model, X_train, y_train, kf, sorted(final_dataframe[\"target\"].unique()))"
   ]
  }
 ],
 "metadata": {
  "kernelspec": {
   "display_name": "ml_practical",
   "language": "python",
   "name": "python3"
  },
  "language_info": {
   "codemirror_mode": {
    "name": "ipython",
    "version": 3
   },
   "file_extension": ".py",
   "mimetype": "text/x-python",
   "name": "python",
   "nbconvert_exporter": "python",
   "pygments_lexer": "ipython3",
   "version": "3.10.13"
  },
  "orig_nbformat": 4
 },
 "nbformat": 4,
 "nbformat_minor": 2
}
