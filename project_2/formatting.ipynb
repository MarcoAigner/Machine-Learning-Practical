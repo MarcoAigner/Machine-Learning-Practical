{
 "cells": [
  {
   "cell_type": "markdown",
   "metadata": {},
   "source": [
    "# Useful formatting Tools\n",
    "> [Markdown in Jupyter Notebooks](https://medium.com/@ahmetekiz/creating-table-of-contents-in-jupyter-notebook-52a7c696817f)\n",
    "## Boxes\n",
    "Can be used to emphasize something\n",
    "<div class=\"alert alert-block alert-info\"> <b>Tip:</b> Use blue boxes (alert-info) for tips and notes.  If it’s a note, you don’t have to include the word “Note”. </div>\n",
    "\n",
    "<div class=\"alert alert-block alert-warning\">\n",
    "<b>Example:</b> Use yellow boxes for examples that are not  inside code cells, or use for mathematical formulas if needed.\n",
    "</div>\n",
    "\n"
   ]
  }
 ],
 "metadata": {
  "language_info": {
   "name": "python"
  }
 },
 "nbformat": 4,
 "nbformat_minor": 2
}
