{
 "cells": [
  {
   "cell_type": "markdown",
   "metadata": {},
   "source": [
    "# Preparations\n",
    "## Importing Libraries"
   ]
  },
  {
   "cell_type": "code",
   "execution_count": 1,
   "metadata": {},
   "outputs": [],
   "source": [
    "import pandas as pd\n",
    "import seaborn as sns\n",
    "import matplotlib.pyplot as plt\n",
    "from matplotlib.gridspec import GridSpec\n",
    "import warnings # has to do with a bug in seaborn\n",
    "\n",
    "\n",
    "from naive_bayes_classifier import NaiveBayes"
   ]
  },
  {
   "cell_type": "markdown",
   "metadata": {},
   "source": [
    "## Suppress Warnings\n",
    "There is a [known bug](https://github.com/mwaskom/seaborn/issues/3462) in seaborn versions below 13 which lots of FutureWarnings to be rendered.\n",
    "While the bug is fixed for versions above or equal to 13, explicitly suppress these warnings here:"
   ]
  },
  {
   "cell_type": "code",
   "execution_count": 2,
   "metadata": {},
   "outputs": [],
   "source": [
    "warnings.filterwarnings(\"ignore\", \"is_categorical_dtype\")\n",
    "warnings.filterwarnings(\"ignore\", \"use_inf_as_na\")"
   ]
  },
  {
   "cell_type": "markdown",
   "metadata": {},
   "source": [
    "## Reading the Data"
   ]
  },
  {
   "cell_type": "code",
   "execution_count": 3,
   "metadata": {},
   "outputs": [],
   "source": [
    "inflammation_data = pd.read_csv('./inflammation_diagnosis.csv', sep=';')"
   ]
  },
  {
   "cell_type": "markdown",
   "metadata": {},
   "source": [
    "## Inspecting the Data\n",
    "'Temperature' is the only continuous feature. The other features are all binary."
   ]
  },
  {
   "cell_type": "code",
   "execution_count": 4,
   "metadata": {},
   "outputs": [
    {
     "data": {
      "text/html": [
       "<div>\n",
       "<style scoped>\n",
       "    .dataframe tbody tr th:only-of-type {\n",
       "        vertical-align: middle;\n",
       "    }\n",
       "\n",
       "    .dataframe tbody tr th {\n",
       "        vertical-align: top;\n",
       "    }\n",
       "\n",
       "    .dataframe thead th {\n",
       "        text-align: right;\n",
       "    }\n",
       "</style>\n",
       "<table border=\"1\" class=\"dataframe\">\n",
       "  <thead>\n",
       "    <tr style=\"text-align: right;\">\n",
       "      <th></th>\n",
       "      <th>temperature</th>\n",
       "      <th>nausea</th>\n",
       "      <th>lumbar_pain</th>\n",
       "      <th>urine_pushing</th>\n",
       "      <th>micturition_pains</th>\n",
       "      <th>burning_of_urethra</th>\n",
       "      <th>inflammation</th>\n",
       "      <th>nephritis</th>\n",
       "    </tr>\n",
       "  </thead>\n",
       "  <tbody>\n",
       "    <tr>\n",
       "      <th>0</th>\n",
       "      <td>35.5</td>\n",
       "      <td>no</td>\n",
       "      <td>yes</td>\n",
       "      <td>no</td>\n",
       "      <td>no</td>\n",
       "      <td>no</td>\n",
       "      <td>no</td>\n",
       "      <td>no</td>\n",
       "    </tr>\n",
       "    <tr>\n",
       "      <th>1</th>\n",
       "      <td>35.9</td>\n",
       "      <td>no</td>\n",
       "      <td>no</td>\n",
       "      <td>yes</td>\n",
       "      <td>yes</td>\n",
       "      <td>yes</td>\n",
       "      <td>yes</td>\n",
       "      <td>no</td>\n",
       "    </tr>\n",
       "    <tr>\n",
       "      <th>2</th>\n",
       "      <td>35.9</td>\n",
       "      <td>no</td>\n",
       "      <td>yes</td>\n",
       "      <td>no</td>\n",
       "      <td>no</td>\n",
       "      <td>no</td>\n",
       "      <td>no</td>\n",
       "      <td>no</td>\n",
       "    </tr>\n",
       "    <tr>\n",
       "      <th>3</th>\n",
       "      <td>36.0</td>\n",
       "      <td>no</td>\n",
       "      <td>no</td>\n",
       "      <td>yes</td>\n",
       "      <td>yes</td>\n",
       "      <td>yes</td>\n",
       "      <td>yes</td>\n",
       "      <td>no</td>\n",
       "    </tr>\n",
       "    <tr>\n",
       "      <th>4</th>\n",
       "      <td>36.0</td>\n",
       "      <td>no</td>\n",
       "      <td>yes</td>\n",
       "      <td>no</td>\n",
       "      <td>no</td>\n",
       "      <td>no</td>\n",
       "      <td>no</td>\n",
       "      <td>no</td>\n",
       "    </tr>\n",
       "  </tbody>\n",
       "</table>\n",
       "</div>"
      ],
      "text/plain": [
       "   temperature nausea lumbar_pain urine_pushing micturition_pains  \\\n",
       "0         35.5     no         yes            no                no   \n",
       "1         35.9     no          no           yes               yes   \n",
       "2         35.9     no         yes            no                no   \n",
       "3         36.0     no          no           yes               yes   \n",
       "4         36.0     no         yes            no                no   \n",
       "\n",
       "  burning_of_urethra inflammation nephritis  \n",
       "0                 no           no        no  \n",
       "1                yes          yes        no  \n",
       "2                 no           no        no  \n",
       "3                yes          yes        no  \n",
       "4                 no           no        no  "
      ]
     },
     "execution_count": 4,
     "metadata": {},
     "output_type": "execute_result"
    }
   ],
   "source": [
    "inflammation_data.head(5)"
   ]
  },
  {
   "cell_type": "markdown",
   "metadata": {},
   "source": [
    "## Inspecting the Dtypes\n",
    "'Temperature' is a float, the other features are all strings."
   ]
  },
  {
   "cell_type": "code",
   "execution_count": 5,
   "metadata": {},
   "outputs": [
    {
     "name": "stdout",
     "output_type": "stream",
     "text": [
      "<class 'pandas.core.frame.DataFrame'>\n",
      "RangeIndex: 120 entries, 0 to 119\n",
      "Data columns (total 8 columns):\n",
      " #   Column              Non-Null Count  Dtype  \n",
      "---  ------              --------------  -----  \n",
      " 0   temperature         120 non-null    float64\n",
      " 1   nausea              120 non-null    object \n",
      " 2   lumbar_pain         120 non-null    object \n",
      " 3   urine_pushing       120 non-null    object \n",
      " 4   micturition_pains   120 non-null    object \n",
      " 5   burning_of_urethra  120 non-null    object \n",
      " 6   inflammation        120 non-null    object \n",
      " 7   nephritis           120 non-null    object \n",
      "dtypes: float64(1), object(7)\n",
      "memory usage: 7.6+ KB\n"
     ]
    }
   ],
   "source": [
    "inflammation_data.info()"
   ]
  },
  {
   "cell_type": "markdown",
   "metadata": {},
   "source": [
    "# "
   ]
  },
  {
   "cell_type": "markdown",
   "metadata": {},
   "source": [
    "## Booleanizing the Binary Features\n",
    "I used it once and it's a word now 😏"
   ]
  },
  {
   "cell_type": "code",
   "execution_count": 6,
   "metadata": {},
   "outputs": [
    {
     "data": {
      "text/html": [
       "<div>\n",
       "<style scoped>\n",
       "    .dataframe tbody tr th:only-of-type {\n",
       "        vertical-align: middle;\n",
       "    }\n",
       "\n",
       "    .dataframe tbody tr th {\n",
       "        vertical-align: top;\n",
       "    }\n",
       "\n",
       "    .dataframe thead th {\n",
       "        text-align: right;\n",
       "    }\n",
       "</style>\n",
       "<table border=\"1\" class=\"dataframe\">\n",
       "  <thead>\n",
       "    <tr style=\"text-align: right;\">\n",
       "      <th></th>\n",
       "      <th>temperature</th>\n",
       "      <th>nausea</th>\n",
       "      <th>lumbar_pain</th>\n",
       "      <th>urine_pushing</th>\n",
       "      <th>micturition_pains</th>\n",
       "      <th>burning_of_urethra</th>\n",
       "      <th>inflammation</th>\n",
       "      <th>nephritis</th>\n",
       "    </tr>\n",
       "  </thead>\n",
       "  <tbody>\n",
       "    <tr>\n",
       "      <th>0</th>\n",
       "      <td>35.5</td>\n",
       "      <td>False</td>\n",
       "      <td>True</td>\n",
       "      <td>False</td>\n",
       "      <td>False</td>\n",
       "      <td>False</td>\n",
       "      <td>False</td>\n",
       "      <td>False</td>\n",
       "    </tr>\n",
       "    <tr>\n",
       "      <th>1</th>\n",
       "      <td>35.9</td>\n",
       "      <td>False</td>\n",
       "      <td>False</td>\n",
       "      <td>True</td>\n",
       "      <td>True</td>\n",
       "      <td>True</td>\n",
       "      <td>True</td>\n",
       "      <td>False</td>\n",
       "    </tr>\n",
       "    <tr>\n",
       "      <th>2</th>\n",
       "      <td>35.9</td>\n",
       "      <td>False</td>\n",
       "      <td>True</td>\n",
       "      <td>False</td>\n",
       "      <td>False</td>\n",
       "      <td>False</td>\n",
       "      <td>False</td>\n",
       "      <td>False</td>\n",
       "    </tr>\n",
       "    <tr>\n",
       "      <th>3</th>\n",
       "      <td>36.0</td>\n",
       "      <td>False</td>\n",
       "      <td>False</td>\n",
       "      <td>True</td>\n",
       "      <td>True</td>\n",
       "      <td>True</td>\n",
       "      <td>True</td>\n",
       "      <td>False</td>\n",
       "    </tr>\n",
       "    <tr>\n",
       "      <th>4</th>\n",
       "      <td>36.0</td>\n",
       "      <td>False</td>\n",
       "      <td>True</td>\n",
       "      <td>False</td>\n",
       "      <td>False</td>\n",
       "      <td>False</td>\n",
       "      <td>False</td>\n",
       "      <td>False</td>\n",
       "    </tr>\n",
       "    <tr>\n",
       "      <th>...</th>\n",
       "      <td>...</td>\n",
       "      <td>...</td>\n",
       "      <td>...</td>\n",
       "      <td>...</td>\n",
       "      <td>...</td>\n",
       "      <td>...</td>\n",
       "      <td>...</td>\n",
       "      <td>...</td>\n",
       "    </tr>\n",
       "    <tr>\n",
       "      <th>115</th>\n",
       "      <td>41.4</td>\n",
       "      <td>False</td>\n",
       "      <td>True</td>\n",
       "      <td>True</td>\n",
       "      <td>False</td>\n",
       "      <td>True</td>\n",
       "      <td>False</td>\n",
       "      <td>True</td>\n",
       "    </tr>\n",
       "    <tr>\n",
       "      <th>116</th>\n",
       "      <td>41.5</td>\n",
       "      <td>False</td>\n",
       "      <td>False</td>\n",
       "      <td>False</td>\n",
       "      <td>False</td>\n",
       "      <td>False</td>\n",
       "      <td>False</td>\n",
       "      <td>False</td>\n",
       "    </tr>\n",
       "    <tr>\n",
       "      <th>117</th>\n",
       "      <td>41.5</td>\n",
       "      <td>True</td>\n",
       "      <td>True</td>\n",
       "      <td>False</td>\n",
       "      <td>True</td>\n",
       "      <td>False</td>\n",
       "      <td>False</td>\n",
       "      <td>True</td>\n",
       "    </tr>\n",
       "    <tr>\n",
       "      <th>118</th>\n",
       "      <td>41.5</td>\n",
       "      <td>False</td>\n",
       "      <td>True</td>\n",
       "      <td>True</td>\n",
       "      <td>False</td>\n",
       "      <td>True</td>\n",
       "      <td>False</td>\n",
       "      <td>True</td>\n",
       "    </tr>\n",
       "    <tr>\n",
       "      <th>119</th>\n",
       "      <td>41.5</td>\n",
       "      <td>False</td>\n",
       "      <td>True</td>\n",
       "      <td>True</td>\n",
       "      <td>False</td>\n",
       "      <td>True</td>\n",
       "      <td>False</td>\n",
       "      <td>True</td>\n",
       "    </tr>\n",
       "  </tbody>\n",
       "</table>\n",
       "<p>120 rows × 8 columns</p>\n",
       "</div>"
      ],
      "text/plain": [
       "     temperature  nausea  lumbar_pain  urine_pushing  micturition_pains  \\\n",
       "0           35.5   False         True          False              False   \n",
       "1           35.9   False        False           True               True   \n",
       "2           35.9   False         True          False              False   \n",
       "3           36.0   False        False           True               True   \n",
       "4           36.0   False         True          False              False   \n",
       "..           ...     ...          ...            ...                ...   \n",
       "115         41.4   False         True           True              False   \n",
       "116         41.5   False        False          False              False   \n",
       "117         41.5    True         True          False               True   \n",
       "118         41.5   False         True           True              False   \n",
       "119         41.5   False         True           True              False   \n",
       "\n",
       "     burning_of_urethra  inflammation  nephritis  \n",
       "0                 False         False      False  \n",
       "1                  True          True      False  \n",
       "2                 False         False      False  \n",
       "3                  True          True      False  \n",
       "4                 False         False      False  \n",
       "..                  ...           ...        ...  \n",
       "115                True         False       True  \n",
       "116               False         False      False  \n",
       "117               False         False       True  \n",
       "118                True         False       True  \n",
       "119                True         False       True  \n",
       "\n",
       "[120 rows x 8 columns]"
      ]
     },
     "execution_count": 6,
     "metadata": {},
     "output_type": "execute_result"
    }
   ],
   "source": [
    "inflammation_data.replace(to_replace={'no': False, 'yes': True}, inplace=True)\n",
    "inflammation_data"
   ]
  },
  {
   "attachments": {},
   "cell_type": "markdown",
   "metadata": {},
   "source": [
    "# Plot the data"
   ]
  },
  {
   "cell_type": "code",
   "execution_count": 7,
   "metadata": {},
   "outputs": [
    {
     "data": {
      "image/png": "[encoded data removed]",
      "text/plain": [
       "<Figure size 2000x900 with 8 Axes>"
      ]
     },
     "metadata": {},
     "output_type": "display_data"
    }
   ],
   "source": [
    "rows = 2\n",
    "columns = 4\n",
    "fig,ax = plt.subplots(nrows=rows, ncols=columns, figsize=(20,9))\n",
    "[\"\"]\n",
    "index = 0 \n",
    "\n",
    "for row in range(rows):\n",
    "    for column in range(columns):\n",
    "        nice_col_name = inflammation_data.columns.to_list()[index]\n",
    "        nice_col_name = \" \".join(word[0].upper() + word[1:] for word in nice_col_name.split(\"_\"))\n",
    "        \n",
    "        \n",
    "        if inflammation_data.columns[index] == 'temperature':\n",
    "            s = sns.histplot(inflammation_data, ax=ax[row,column], x=inflammation_data.columns[column], kde=True, color='r')\n",
    "            s.set(xlabel = 'Temperature in ° C', ylabel = \"Frequency\")\n",
    "            \n",
    "        else:\n",
    "            b = sns.countplot(inflammation_data, x=inflammation_data.columns[index], ax=ax[row,column], hue=inflammation_data.columns[index])\n",
    "            b.set(xlabel = nice_col_name, ylabel = 'Frequency')\n",
    "            b.set_ylim(0,100)\n",
    "            \n",
    "        index += 1"
   ]
  },
  {
   "cell_type": "code",
   "execution_count": 8,
   "metadata": {},
   "outputs": [
    {
     "ename": "IndexingError",
     "evalue": "Unalignable boolean Series provided as indexer (index of the boolean Series and of the indexed object do not match).",
     "output_type": "error",
     "traceback": [
      "\u001b[1;31m---------------------------------------------------------------------------\u001b[0m",
      "\u001b[1;31mIndexingError\u001b[0m                             Traceback (most recent call last)",
      "\u001b[1;32md:\\Machine-Learning-Practical\\project_1\\naive_bayes.ipynb Cell 16\u001b[0m line \u001b[0;36m2\n\u001b[0;32m     <a href='vscode-notebook-cell:/d%3A/Machine-Learning-Practical/project_1/naive_bayes.ipynb#Y205sZmlsZQ%3D%3D?line=18'>19</a>\u001b[0m total_count \u001b[39m=\u001b[39m \u001b[39mlen\u001b[39m(inflammation_data[current_column])\n\u001b[0;32m     <a href='vscode-notebook-cell:/d%3A/Machine-Learning-Practical/project_1/naive_bayes.ipynb#Y205sZmlsZQ%3D%3D?line=19'>20</a>\u001b[0m percentages \u001b[39m=\u001b[39m (inflammation_data[current_column]\u001b[39m.\u001b[39mvalue_counts()\u001b[39m/\u001b[39mtotal_count) \u001b[39m*\u001b[39m \u001b[39m100\u001b[39m\n\u001b[1;32m---> <a href='vscode-notebook-cell:/d%3A/Machine-Learning-Practical/project_1/naive_bayes.ipynb#Y205sZmlsZQ%3D%3D?line=21'>22</a>\u001b[0m b \u001b[39m=\u001b[39m sns\u001b[39m.\u001b[39;49mbarplot(x\u001b[39m=\u001b[39;49mpercentages\u001b[39m.\u001b[39;49mindex, y\u001b[39m=\u001b[39;49mpercentages, ax\u001b[39m=\u001b[39;49max[row, column], hue\u001b[39m=\u001b[39;49mpercentages\u001b[39m.\u001b[39;49mindex)\n\u001b[0;32m     <a href='vscode-notebook-cell:/d%3A/Machine-Learning-Practical/project_1/naive_bayes.ipynb#Y205sZmlsZQ%3D%3D?line=22'>23</a>\u001b[0m b\u001b[39m.\u001b[39mset(xlabel\u001b[39m=\u001b[39mnice_col_name, ylabel\u001b[39m=\u001b[39m\u001b[39m'\u001b[39m\u001b[39mFrequency in \u001b[39m\u001b[39m%\u001b[39m\u001b[39m'\u001b[39m)\n\u001b[0;32m     <a href='vscode-notebook-cell:/d%3A/Machine-Learning-Practical/project_1/naive_bayes.ipynb#Y205sZmlsZQ%3D%3D?line=23'>24</a>\u001b[0m b\u001b[39m.\u001b[39mset_ylim(\u001b[39m0\u001b[39m,\u001b[39m100\u001b[39m)\n",
      "File \u001b[1;32mc:\\Users\\mfaig\\anaconda3\\envs\\ml_practical\\lib\\site-packages\\seaborn\\categorical.py:2755\u001b[0m, in \u001b[0;36mbarplot\u001b[1;34m(data, x, y, hue, order, hue_order, estimator, errorbar, n_boot, units, seed, orient, color, palette, saturation, width, errcolor, errwidth, capsize, dodge, ci, ax, **kwargs)\u001b[0m\n\u001b[0;32m   2752\u001b[0m \u001b[39mif\u001b[39;00m estimator \u001b[39mis\u001b[39;00m \u001b[39mlen\u001b[39m:\n\u001b[0;32m   2753\u001b[0m     estimator \u001b[39m=\u001b[39m \u001b[39m\"\u001b[39m\u001b[39msize\u001b[39m\u001b[39m\"\u001b[39m\n\u001b[1;32m-> 2755\u001b[0m plotter \u001b[39m=\u001b[39m _BarPlotter(x, y, hue, data, order, hue_order,\n\u001b[0;32m   2756\u001b[0m                       estimator, errorbar, n_boot, units, seed,\n\u001b[0;32m   2757\u001b[0m                       orient, color, palette, saturation,\n\u001b[0;32m   2758\u001b[0m                       width, errcolor, errwidth, capsize, dodge)\n\u001b[0;32m   2760\u001b[0m \u001b[39mif\u001b[39;00m ax \u001b[39mis\u001b[39;00m \u001b[39mNone\u001b[39;00m:\n\u001b[0;32m   2761\u001b[0m     ax \u001b[39m=\u001b[39m plt\u001b[39m.\u001b[39mgca()\n",
      "File \u001b[1;32mc:\\Users\\mfaig\\anaconda3\\envs\\ml_practical\\lib\\site-packages\\seaborn\\categorical.py:1533\u001b[0m, in \u001b[0;36m_BarPlotter.__init__\u001b[1;34m(self, x, y, hue, data, order, hue_order, estimator, errorbar, n_boot, units, seed, orient, color, palette, saturation, width, errcolor, errwidth, capsize, dodge)\u001b[0m\n\u001b[0;32m   1530\u001b[0m \u001b[39mself\u001b[39m\u001b[39m.\u001b[39mestablish_variables(x, y, hue, data, orient,\n\u001b[0;32m   1531\u001b[0m                          order, hue_order, units)\n\u001b[0;32m   1532\u001b[0m \u001b[39mself\u001b[39m\u001b[39m.\u001b[39mestablish_colors(color, palette, saturation)\n\u001b[1;32m-> 1533\u001b[0m \u001b[39mself\u001b[39;49m\u001b[39m.\u001b[39;49mestimate_statistic(estimator, errorbar, n_boot, seed)\n\u001b[0;32m   1535\u001b[0m \u001b[39mself\u001b[39m\u001b[39m.\u001b[39mdodge \u001b[39m=\u001b[39m dodge\n\u001b[0;32m   1536\u001b[0m \u001b[39mself\u001b[39m\u001b[39m.\u001b[39mwidth \u001b[39m=\u001b[39m width\n",
      "File \u001b[1;32mc:\\Users\\mfaig\\anaconda3\\envs\\ml_practical\\lib\\site-packages\\seaborn\\categorical.py:1480\u001b[0m, in \u001b[0;36m_CategoricalStatPlotter.estimate_statistic\u001b[1;34m(self, estimator, errorbar, n_boot, seed)\u001b[0m\n\u001b[0;32m   1477\u001b[0m     \u001b[39mcontinue\u001b[39;00m\n\u001b[0;32m   1479\u001b[0m hue_mask \u001b[39m=\u001b[39m \u001b[39mself\u001b[39m\u001b[39m.\u001b[39mplot_hues[i] \u001b[39m==\u001b[39m hue_level\n\u001b[1;32m-> 1480\u001b[0m df \u001b[39m=\u001b[39m pd\u001b[39m.\u001b[39mDataFrame({var: group_data[hue_mask]})\n\u001b[0;32m   1481\u001b[0m \u001b[39mif\u001b[39;00m \u001b[39mself\u001b[39m\u001b[39m.\u001b[39mplot_units \u001b[39mis\u001b[39;00m \u001b[39mnot\u001b[39;00m \u001b[39mNone\u001b[39;00m:\n\u001b[0;32m   1482\u001b[0m     df[\u001b[39m\"\u001b[39m\u001b[39munits\u001b[39m\u001b[39m\"\u001b[39m] \u001b[39m=\u001b[39m \u001b[39mself\u001b[39m\u001b[39m.\u001b[39mplot_units[i][hue_mask]\n",
      "File \u001b[1;32mc:\\Users\\mfaig\\anaconda3\\envs\\ml_practical\\lib\\site-packages\\pandas\\core\\series.py:1068\u001b[0m, in \u001b[0;36mSeries.__getitem__\u001b[1;34m(self, key)\u001b[0m\n\u001b[0;32m   1065\u001b[0m     \u001b[39mreturn\u001b[39;00m \u001b[39mself\u001b[39m\u001b[39m.\u001b[39m_getitem_slice(key)\n\u001b[0;32m   1067\u001b[0m \u001b[39mif\u001b[39;00m com\u001b[39m.\u001b[39mis_bool_indexer(key):\n\u001b[1;32m-> 1068\u001b[0m     key \u001b[39m=\u001b[39m check_bool_indexer(\u001b[39mself\u001b[39;49m\u001b[39m.\u001b[39;49mindex, key)\n\u001b[0;32m   1069\u001b[0m     key \u001b[39m=\u001b[39m np\u001b[39m.\u001b[39masarray(key, dtype\u001b[39m=\u001b[39m\u001b[39mbool\u001b[39m)\n\u001b[0;32m   1070\u001b[0m     \u001b[39mreturn\u001b[39;00m \u001b[39mself\u001b[39m\u001b[39m.\u001b[39m_get_rows_with_mask(key)\n",
      "File \u001b[1;32mc:\\Users\\mfaig\\anaconda3\\envs\\ml_practical\\lib\\site-packages\\pandas\\core\\indexing.py:2575\u001b[0m, in \u001b[0;36mcheck_bool_indexer\u001b[1;34m(index, key)\u001b[0m\n\u001b[0;32m   2573\u001b[0m indexer \u001b[39m=\u001b[39m result\u001b[39m.\u001b[39mindex\u001b[39m.\u001b[39mget_indexer_for(index)\n\u001b[0;32m   2574\u001b[0m \u001b[39mif\u001b[39;00m \u001b[39m-\u001b[39m\u001b[39m1\u001b[39m \u001b[39min\u001b[39;00m indexer:\n\u001b[1;32m-> 2575\u001b[0m     \u001b[39mraise\u001b[39;00m IndexingError(\n\u001b[0;32m   2576\u001b[0m         \u001b[39m\"\u001b[39m\u001b[39mUnalignable boolean Series provided as \u001b[39m\u001b[39m\"\u001b[39m\n\u001b[0;32m   2577\u001b[0m         \u001b[39m\"\u001b[39m\u001b[39mindexer (index of the boolean Series and of \u001b[39m\u001b[39m\"\u001b[39m\n\u001b[0;32m   2578\u001b[0m         \u001b[39m\"\u001b[39m\u001b[39mthe indexed object do not match).\u001b[39m\u001b[39m\"\u001b[39m\n\u001b[0;32m   2579\u001b[0m     )\n\u001b[0;32m   2581\u001b[0m result \u001b[39m=\u001b[39m result\u001b[39m.\u001b[39mtake(indexer)\n\u001b[0;32m   2583\u001b[0m \u001b[39m# fall through for boolean\u001b[39;00m\n",
      "\u001b[1;31mIndexingError\u001b[0m: Unalignable boolean Series provided as indexer (index of the boolean Series and of the indexed object do not match)."
     ]
    },
    {
     "data": {
      "image/png": "[encoded data removed]",
      "text/plain": [
       "<Figure size 2000x900 with 8 Axes>"
      ]
     },
     "metadata": {},
     "output_type": "display_data"
    }
   ],
   "source": [
    "rows = 2\n",
    "columns = 4\n",
    "fig,ax = plt.subplots(nrows=rows, ncols=columns, figsize=(20,9))\n",
    "[\"\"]\n",
    "index = 0 \n",
    "\n",
    "for row in range(rows):\n",
    "    for column in range(columns):\n",
    "        nice_col_name = inflammation_data.columns.to_list()[index]\n",
    "        nice_col_name = \" \".join(word[0].upper() + word[1:] for word in nice_col_name.split(\"_\"))\n",
    "\n",
    "        current_column = inflammation_data.columns[index]\n",
    "\n",
    "        if current_column == 'temperature':\n",
    "            s = sns.histplot(inflammation_data, ax=ax[row,column], x=current_column, kde=True, color='r')\n",
    "            s.set(xlabel = 'Temperature in ° C', ylabel = \"Frequency\")\n",
    "            \n",
    "        else:\n",
    "            total_count = len(inflammation_data[current_column])\n",
    "            percentages = (inflammation_data[current_column].value_counts()/total_count) * 100\n",
    "\n",
    "            b = sns.barplot(x=percentages.index, y=percentages, ax=ax[row, column], hue=percentages.index)\n",
    "            b.set(xlabel=nice_col_name, ylabel='Frequency in %')\n",
    "            b.set_ylim(0,100)\n",
    "            \n",
    "        index += 1"
   ]
  },
  {
   "cell_type": "markdown",
   "metadata": {},
   "source": [
    "## Creating Disease Labels\n",
    "Based on the appearance of either inflammation or nephritis"
   ]
  },
  {
   "cell_type": "code",
   "execution_count": null,
   "metadata": {},
   "outputs": [],
   "source": [
    "inflammation_data['disease'] = inflammation_data[\"inflammation\"] | inflammation_data[\"nephritis\"]\n",
    "inflammation_data"
   ]
  },
  {
   "attachments": {},
   "cell_type": "markdown",
   "metadata": {},
   "source": [
    "# Temperature distribution by diseased or healthy\n",
    "From the temperature plot it seems as one could approximate two gaussian distributions that relate to the two categories diseased or healthy. To verify this, we plot the temperature grouped by the status of 'disease':"
   ]
  },
  {
   "cell_type": "code",
   "execution_count": null,
   "metadata": {},
   "outputs": [],
   "source": [
    "# Grouping the 'inflammation_data' DataFrame by the 'disease' column, creating separate groups for each unique disease value.\n",
    "groupby_disease = inflammation_data[['temperature', 'disease']].groupby('disease')\n",
    "\n",
    "# Select the 'diseased' and 'not diseased' groups\n",
    "diseased = groupby_disease.get_group(name=True)\n",
    "healthy = groupby_disease.get_group(name=False)\n",
    "\n",
    "# Create a figure and a GridSpec layout\n",
    "fig = plt.figure(figsize=(12, 12))\n",
    "gs = GridSpec(2, 2, figure=fig)\n",
    "\n",
    "# Plot the first subplot (diseased) in the first row, first column\n",
    "ax1 = fig.add_subplot(gs[0, 0])\n",
    "sns.histplot(data=inflammation_data, x='temperature', label='total distribution', color='b', kde=True, ax=ax1)\n",
    "sns.histplot(data=diseased, x='temperature', label='diseased', color='r', kde=True, ax=ax1)\n",
    "ax1.set_ylabel('Frequency')\n",
    "ax1.set_xlabel('Temperature in ° C')\n",
    "ax1.legend()\n",
    "\n",
    "# Plot the second subplot (healthy) in the first row, second column\n",
    "ax2 = fig.add_subplot(gs[0, 1])\n",
    "sns.histplot(data=inflammation_data, x='temperature', label='total distribution', color='b', kde=True, ax=ax2)\n",
    "sns.histplot(data=healthy, x='temperature', label='not diseased', color='g', kde=True, ax=ax2)\n",
    "ax2.set_ylabel('Frequency')\n",
    "ax2.set_xlabel('Temperature in ° C')\n",
    "ax2.legend()\n",
    "\n",
    "# Plot the third subplot (total) in the second row, spanning both columns\n",
    "ax3 = fig.add_subplot(gs[1, :])\n",
    "sns.histplot(data=inflammation_data, x='temperature', label='total distribution', color='b', kde=True, ax=ax3)\n",
    "sns.histplot(data=diseased, x='temperature', label='diseased', color='r', kde=True, ax=ax3)\n",
    "sns.histplot(data=healthy, x='temperature', label='not diseased', color='g', kde=True, ax=ax3)\n",
    "ax3.set_ylabel('Frequency')\n",
    "ax3.set_xlabel('Temperature in ° C')\n",
    "ax3.legend()\n",
    "\n",
    "# Adjust layout to prevent overlapping\n",
    "plt.tight_layout()\n",
    "\n",
    "# Show the plot\n",
    "plt.show()\n"
   ]
  },
  {
   "attachments": {},
   "cell_type": "markdown",
   "metadata": {},
   "source": [
    "It seems that, unlike expected from the total distribution, there are no two guassian distributions for diseased and healthy patients. One could assume such a distribution, as an elevated temperature is a typical sign for inflammation. However, looking only at inflammation and nephritis (out of which we generate the disease-column) and temperature, it is visible that there are multiple cases in which relatively low temperatures were measured for patients with either general inflammation or nephritis."
   ]
  },
  {
   "cell_type": "code",
   "execution_count": null,
   "metadata": {},
   "outputs": [],
   "source": [
    "test = inflammation_data[['inflammation', 'nephritis', 'temperature']].sort_values(by='temperature')\n",
    "print(test[(test.inflammation==True) | (test.nephritis==True)])"
   ]
  },
  {
   "cell_type": "markdown",
   "metadata": {},
   "source": [
    "## Splitting the Data\n",
    "The data is imbalanced towards diseased patients."
   ]
  },
  {
   "cell_type": "code",
   "execution_count": null,
   "metadata": {},
   "outputs": [],
   "source": [
    "inflammation_data['disease'].value_counts(True)"
   ]
  },
  {
   "cell_type": "markdown",
   "metadata": {},
   "source": [
    "## Stratifying the Split\n",
    "Explicitly setting fractions for both classes"
   ]
  },
  {
   "cell_type": "code",
   "execution_count": null,
   "metadata": {},
   "outputs": [],
   "source": [
    "TRAIN_FRACTION = 0.8\n",
    "\n",
    "train = pd.concat([inflammation_data[inflammation_data['disease'] == True].sample(frac=TRAIN_FRACTION), inflammation_data[inflammation_data['disease'] == False].sample(frac=TRAIN_FRACTION)])\n",
    "test = inflammation_data.drop(train.index)"
   ]
  },
  {
   "cell_type": "markdown",
   "metadata": {},
   "source": [
    "## Proving that no train samples are within the test set\n",
    "By combining the indices of the train and the test-set and checking for duplicates, we can see whether we have rows in both datasets or not:"
   ]
  },
  {
   "cell_type": "code",
   "execution_count": null,
   "metadata": {},
   "outputs": [],
   "source": [
    "indices = train.index.union(test.index)\n",
    "indices.has_duplicates"
   ]
  },
  {
   "cell_type": "markdown",
   "metadata": {},
   "source": [
    "## Ensuring that the two dataframes do not share a column\n",
    "The following merge shows duplicate rows across the two dataframes. If empty, there are no duplicates."
   ]
  },
  {
   "cell_type": "code",
   "execution_count": null,
   "metadata": {},
   "outputs": [],
   "source": [
    "set(list(test.index)).isdisjoint(list(train.index))"
   ]
  },
  {
   "attachments": {},
   "cell_type": "markdown",
   "metadata": {},
   "source": [
    "# Shows same values for training and test set, BUT this are not the same patiens, just patients with the same values "
   ]
  },
  {
   "cell_type": "code",
   "execution_count": null,
   "metadata": {},
   "outputs": [],
   "source": [
    "result = train.merge(right=test, how='inner', indicator=False)\n",
    "result"
   ]
  },
  {
   "attachments": {},
   "cell_type": "markdown",
   "metadata": {},
   "source": [
    "If you add a index column and use the same merge function you can see that no rows are left which means that none of the rows or part of both, the train and test set."
   ]
  },
  {
   "cell_type": "code",
   "execution_count": null,
   "metadata": {},
   "outputs": [],
   "source": [
    "train_1 = train.copy()\n",
    "test_1 = test.copy()\n",
    "\n",
    "test_1['original_index'] = range(1, len(test_1) + 1)\n",
    "train_1['original_index'] = range(1, len(train_1) + 1)\n",
    "\n",
    "result_1 = train_1.merge(right=test_1, how='inner', indicator=False)\n",
    "result_1"
   ]
  },
  {
   "cell_type": "markdown",
   "metadata": {},
   "source": [
    "# Working with the Naive Bayes Classifier\n",
    "## Creating an instance of NaiveBayes"
   ]
  },
  {
   "cell_type": "code",
   "execution_count": null,
   "metadata": {},
   "outputs": [],
   "source": [
    "naive_bayes = NaiveBayes()"
   ]
  },
  {
   "cell_type": "markdown",
   "metadata": {},
   "source": [
    "## Fitting the training data"
   ]
  },
  {
   "cell_type": "code",
   "execution_count": null,
   "metadata": {},
   "outputs": [],
   "source": [
    "naive_bayes.fit(data=train, target_name='disease')"
   ]
  },
  {
   "cell_type": "markdown",
   "metadata": {},
   "source": [
    "## Evaluating on the test set\n",
    "### Dividing into features and labels\n",
    "Before evaluation we first need to divide the test set into features (X) and labels (y)"
   ]
  },
  {
   "cell_type": "code",
   "execution_count": null,
   "metadata": {},
   "outputs": [],
   "source": [
    "X_test = test.drop(columns='disease')\n",
    "y_test = test['disease']"
   ]
  },
  {
   "cell_type": "markdown",
   "metadata": {},
   "source": [
    "## Evaluating"
   ]
  },
  {
   "cell_type": "code",
   "execution_count": null,
   "metadata": {},
   "outputs": [],
   "source": [
    "accuracy, confusion_matrix_all = naive_bayes.evaluate_on_data(data=X_test, test_labels=y_test)"
   ]
  },
  {
   "cell_type": "markdown",
   "metadata": {},
   "source": [
    "## Plotting the confusion matrix"
   ]
  },
  {
   "cell_type": "code",
   "execution_count": null,
   "metadata": {},
   "outputs": [],
   "source": [
    "sns.heatmap(data=confusion_matrix_all.iloc[:2,:2], annot=True)\n",
    "plt.show()"
   ]
  },
  {
   "cell_type": "code",
   "execution_count": null,
   "metadata": {},
   "outputs": [],
   "source": []
  }
 ],
 "metadata": {
  "kernelspec": {
   "display_name": "ml_practical",
   "language": "python",
   "name": "python3"
  },
  "language_info": {
   "codemirror_mode": {
    "name": "ipython",
    "version": 3
   },
   "file_extension": ".py",
   "mimetype": "text/x-python",
   "name": "python",
   "nbconvert_exporter": "python",
   "pygments_lexer": "ipython3",
   "version": "3.10.13"
  },
  "orig_nbformat": 4
 },
 "nbformat": 4,
 "nbformat_minor": 2
}
