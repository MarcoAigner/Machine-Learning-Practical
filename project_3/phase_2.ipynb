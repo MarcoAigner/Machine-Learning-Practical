{
 "cells": [
  {
   "cell_type": "markdown",
   "metadata": {},
   "source": [
    "# Imports"
   ]
  },
  {
   "cell_type": "code",
   "execution_count": null,
   "metadata": {},
   "outputs": [],
   "source": [
    "import pandas as pd # dataframes\n",
    "from sklearn.preprocessing import RobustScaler # scale to zero mean and unit variance\n",
    "from sklearn.decomposition import PCA # primary component analysis\n",
    "import matplotlib.pyplot as plt # plots\n",
    "import seaborn as sns # advanced plots\n",
    "import numpy as np # ndarrays"
   ]
  },
  {
   "cell_type": "markdown",
   "metadata": {},
   "source": [
    "# Preprocess the Data Set"
   ]
  },
  {
   "cell_type": "markdown",
   "metadata": {},
   "source": [
    "# Impute Missing Values\n",
    "- Estimate the accuracy of the imputation for each feature"
   ]
  },
  {
   "cell_type": "markdown",
   "metadata": {},
   "source": [
    "# Principal Component Analysis\n",
    "- Transform the data into the principal components from phase one\n",
    "- Would it make sense to retrain the PCA for the new data?"
   ]
  },
  {
   "cell_type": "markdown",
   "metadata": {},
   "source": [
    "# Perform a Cluster Analysis\n",
    "-Compare and discuss the results of the Anomaly Detection & Cluster Analysis"
   ]
  },
  {
   "cell_type": "markdown",
   "metadata": {},
   "source": [
    "# Visualize Results so far\n",
    "- Plot datapoints of the first PCs\n",
    "- Decision Boundary of the Anomaly Detector\n",
    "    - Color code clusters\n",
    "    - Separate marker style for imputed data points"
   ]
  }
 ],
 "metadata": {
  "kernelspec": {
   "display_name": "machine_learning",
   "language": "python",
   "name": "python3"
  },
  "language_info": {
   "codemirror_mode": {
    "name": "ipython",
    "version": 3
   },
   "file_extension": ".py",
   "mimetype": "text/x-python",
   "name": "python",
   "nbconvert_exporter": "python",
   "pygments_lexer": "ipython3",
   "version": "3.11.5"
  }
 },
 "nbformat": 4,
 "nbformat_minor": 2
}
